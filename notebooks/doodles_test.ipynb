{
 "cells": [
  {
   "attachments": {},
   "cell_type": "markdown",
   "metadata": {},
   "source": [
    "### Install package and make imports:"
   ]
  },
  {
   "cell_type": "code",
   "execution_count": 1,
   "metadata": {},
   "outputs": [
    {
     "name": "stdout",
     "output_type": "stream",
     "text": [
      "Processing /Users/Guille/code/GuillermoIzquierdo/GANs\n",
      "  Preparing metadata (setup.py) ... \u001b[?25ldone\n",
      "\u001b[?25hRequirement already satisfied: pandas in /Users/Guille/.pyenv/versions/3.8.12/envs/GANs/lib/python3.8/site-packages (from GANs-experimneting-tf==0.0.1) (1.5.2)\n",
      "Requirement already satisfied: numpy in /Users/Guille/.pyenv/versions/3.8.12/envs/GANs/lib/python3.8/site-packages (from GANs-experimneting-tf==0.0.1) (1.23.5)\n",
      "Requirement already satisfied: tensorflow in /Users/Guille/.pyenv/versions/3.8.12/envs/GANs/lib/python3.8/site-packages (from GANs-experimneting-tf==0.0.1) (2.11.0)\n",
      "Requirement already satisfied: pillow in /Users/Guille/.pyenv/versions/3.8.12/envs/GANs/lib/python3.8/site-packages (from GANs-experimneting-tf==0.0.1) (9.3.0)\n",
      "Requirement already satisfied: opencv-python in /Users/Guille/.pyenv/versions/3.8.12/envs/GANs/lib/python3.8/site-packages (from GANs-experimneting-tf==0.0.1) (4.6.0.66)\n",
      "Requirement already satisfied: ipython in /Users/Guille/.pyenv/versions/3.8.12/envs/GANs/lib/python3.8/site-packages (from GANs-experimneting-tf==0.0.1) (8.7.0)\n",
      "Requirement already satisfied: matplotlib in /Users/Guille/.pyenv/versions/3.8.12/envs/GANs/lib/python3.8/site-packages (from GANs-experimneting-tf==0.0.1) (3.6.2)\n",
      "Requirement already satisfied: cairocffi in /Users/Guille/.pyenv/versions/3.8.12/envs/GANs/lib/python3.8/site-packages (from GANs-experimneting-tf==0.0.1) (1.4.0)\n",
      "Requirement already satisfied: cffi>=1.1.0 in /Users/Guille/.pyenv/versions/3.8.12/envs/GANs/lib/python3.8/site-packages (from cairocffi->GANs-experimneting-tf==0.0.1) (1.15.1)\n",
      "Requirement already satisfied: backcall in /Users/Guille/.pyenv/versions/3.8.12/envs/GANs/lib/python3.8/site-packages (from ipython->GANs-experimneting-tf==0.0.1) (0.2.0)\n",
      "Requirement already satisfied: appnope in /Users/Guille/.pyenv/versions/3.8.12/envs/GANs/lib/python3.8/site-packages (from ipython->GANs-experimneting-tf==0.0.1) (0.1.3)\n",
      "Requirement already satisfied: prompt-toolkit<3.1.0,>=3.0.11 in /Users/Guille/.pyenv/versions/3.8.12/envs/GANs/lib/python3.8/site-packages (from ipython->GANs-experimneting-tf==0.0.1) (3.0.36)\n",
      "Requirement already satisfied: pexpect>4.3 in /Users/Guille/.pyenv/versions/3.8.12/envs/GANs/lib/python3.8/site-packages (from ipython->GANs-experimneting-tf==0.0.1) (4.8.0)\n",
      "Requirement already satisfied: stack-data in /Users/Guille/.pyenv/versions/3.8.12/envs/GANs/lib/python3.8/site-packages (from ipython->GANs-experimneting-tf==0.0.1) (0.6.2)\n",
      "Requirement already satisfied: decorator in /Users/Guille/.pyenv/versions/3.8.12/envs/GANs/lib/python3.8/site-packages (from ipython->GANs-experimneting-tf==0.0.1) (5.1.1)\n",
      "Requirement already satisfied: pickleshare in /Users/Guille/.pyenv/versions/3.8.12/envs/GANs/lib/python3.8/site-packages (from ipython->GANs-experimneting-tf==0.0.1) (0.7.5)\n",
      "Requirement already satisfied: pygments>=2.4.0 in /Users/Guille/.pyenv/versions/3.8.12/envs/GANs/lib/python3.8/site-packages (from ipython->GANs-experimneting-tf==0.0.1) (2.13.0)\n",
      "Requirement already satisfied: traitlets>=5 in /Users/Guille/.pyenv/versions/3.8.12/envs/GANs/lib/python3.8/site-packages (from ipython->GANs-experimneting-tf==0.0.1) (5.7.0)\n",
      "Requirement already satisfied: jedi>=0.16 in /Users/Guille/.pyenv/versions/3.8.12/envs/GANs/lib/python3.8/site-packages (from ipython->GANs-experimneting-tf==0.0.1) (0.18.2)\n",
      "Requirement already satisfied: matplotlib-inline in /Users/Guille/.pyenv/versions/3.8.12/envs/GANs/lib/python3.8/site-packages (from ipython->GANs-experimneting-tf==0.0.1) (0.1.6)\n",
      "Requirement already satisfied: contourpy>=1.0.1 in /Users/Guille/.pyenv/versions/3.8.12/envs/GANs/lib/python3.8/site-packages (from matplotlib->GANs-experimneting-tf==0.0.1) (1.0.6)\n",
      "Requirement already satisfied: pyparsing>=2.2.1 in /Users/Guille/.pyenv/versions/3.8.12/envs/GANs/lib/python3.8/site-packages (from matplotlib->GANs-experimneting-tf==0.0.1) (3.0.9)\n",
      "Requirement already satisfied: cycler>=0.10 in /Users/Guille/.pyenv/versions/3.8.12/envs/GANs/lib/python3.8/site-packages (from matplotlib->GANs-experimneting-tf==0.0.1) (0.11.0)\n",
      "Requirement already satisfied: python-dateutil>=2.7 in /Users/Guille/.pyenv/versions/3.8.12/envs/GANs/lib/python3.8/site-packages (from matplotlib->GANs-experimneting-tf==0.0.1) (2.8.2)\n",
      "Requirement already satisfied: fonttools>=4.22.0 in /Users/Guille/.pyenv/versions/3.8.12/envs/GANs/lib/python3.8/site-packages (from matplotlib->GANs-experimneting-tf==0.0.1) (4.38.0)\n",
      "Requirement already satisfied: kiwisolver>=1.0.1 in /Users/Guille/.pyenv/versions/3.8.12/envs/GANs/lib/python3.8/site-packages (from matplotlib->GANs-experimneting-tf==0.0.1) (1.4.4)\n",
      "Requirement already satisfied: packaging>=20.0 in /Users/Guille/.pyenv/versions/3.8.12/envs/GANs/lib/python3.8/site-packages (from matplotlib->GANs-experimneting-tf==0.0.1) (22.0)\n",
      "Requirement already satisfied: pytz>=2020.1 in /Users/Guille/.pyenv/versions/3.8.12/envs/GANs/lib/python3.8/site-packages (from pandas->GANs-experimneting-tf==0.0.1) (2022.6)\n",
      "Requirement already satisfied: setuptools in /Users/Guille/.pyenv/versions/3.8.12/envs/GANs/lib/python3.8/site-packages (from tensorflow->GANs-experimneting-tf==0.0.1) (56.0.0)\n",
      "Requirement already satisfied: tensorflow-estimator<2.12,>=2.11.0 in /Users/Guille/.pyenv/versions/3.8.12/envs/GANs/lib/python3.8/site-packages (from tensorflow->GANs-experimneting-tf==0.0.1) (2.11.0)\n",
      "Requirement already satisfied: grpcio<2.0,>=1.24.3 in /Users/Guille/.pyenv/versions/3.8.12/envs/GANs/lib/python3.8/site-packages (from tensorflow->GANs-experimneting-tf==0.0.1) (1.51.1)\n",
      "Requirement already satisfied: typing-extensions>=3.6.6 in /Users/Guille/.pyenv/versions/3.8.12/envs/GANs/lib/python3.8/site-packages (from tensorflow->GANs-experimneting-tf==0.0.1) (4.4.0)\n",
      "Requirement already satisfied: h5py>=2.9.0 in /Users/Guille/.pyenv/versions/3.8.12/envs/GANs/lib/python3.8/site-packages (from tensorflow->GANs-experimneting-tf==0.0.1) (3.7.0)\n",
      "Requirement already satisfied: gast<=0.4.0,>=0.2.1 in /Users/Guille/.pyenv/versions/3.8.12/envs/GANs/lib/python3.8/site-packages (from tensorflow->GANs-experimneting-tf==0.0.1) (0.4.0)\n",
      "Requirement already satisfied: astunparse>=1.6.0 in /Users/Guille/.pyenv/versions/3.8.12/envs/GANs/lib/python3.8/site-packages (from tensorflow->GANs-experimneting-tf==0.0.1) (1.6.3)\n",
      "Requirement already satisfied: google-pasta>=0.1.1 in /Users/Guille/.pyenv/versions/3.8.12/envs/GANs/lib/python3.8/site-packages (from tensorflow->GANs-experimneting-tf==0.0.1) (0.2.0)\n",
      "Requirement already satisfied: protobuf<3.20,>=3.9.2 in /Users/Guille/.pyenv/versions/3.8.12/envs/GANs/lib/python3.8/site-packages (from tensorflow->GANs-experimneting-tf==0.0.1) (3.19.6)\n",
      "Requirement already satisfied: wrapt>=1.11.0 in /Users/Guille/.pyenv/versions/3.8.12/envs/GANs/lib/python3.8/site-packages (from tensorflow->GANs-experimneting-tf==0.0.1) (1.14.1)\n",
      "Requirement already satisfied: keras<2.12,>=2.11.0 in /Users/Guille/.pyenv/versions/3.8.12/envs/GANs/lib/python3.8/site-packages (from tensorflow->GANs-experimneting-tf==0.0.1) (2.11.0)\n",
      "Requirement already satisfied: absl-py>=1.0.0 in /Users/Guille/.pyenv/versions/3.8.12/envs/GANs/lib/python3.8/site-packages (from tensorflow->GANs-experimneting-tf==0.0.1) (1.3.0)\n",
      "Requirement already satisfied: libclang>=13.0.0 in /Users/Guille/.pyenv/versions/3.8.12/envs/GANs/lib/python3.8/site-packages (from tensorflow->GANs-experimneting-tf==0.0.1) (14.0.6)\n",
      "Requirement already satisfied: tensorflow-io-gcs-filesystem>=0.23.1 in /Users/Guille/.pyenv/versions/3.8.12/envs/GANs/lib/python3.8/site-packages (from tensorflow->GANs-experimneting-tf==0.0.1) (0.28.0)\n",
      "Requirement already satisfied: opt-einsum>=2.3.2 in /Users/Guille/.pyenv/versions/3.8.12/envs/GANs/lib/python3.8/site-packages (from tensorflow->GANs-experimneting-tf==0.0.1) (3.3.0)\n",
      "Requirement already satisfied: termcolor>=1.1.0 in /Users/Guille/.pyenv/versions/3.8.12/envs/GANs/lib/python3.8/site-packages (from tensorflow->GANs-experimneting-tf==0.0.1) (2.1.1)\n",
      "Requirement already satisfied: six>=1.12.0 in /Users/Guille/.pyenv/versions/3.8.12/envs/GANs/lib/python3.8/site-packages (from tensorflow->GANs-experimneting-tf==0.0.1) (1.16.0)\n",
      "Requirement already satisfied: tensorboard<2.12,>=2.11 in /Users/Guille/.pyenv/versions/3.8.12/envs/GANs/lib/python3.8/site-packages (from tensorflow->GANs-experimneting-tf==0.0.1) (2.11.0)\n",
      "Requirement already satisfied: flatbuffers>=2.0 in /Users/Guille/.pyenv/versions/3.8.12/envs/GANs/lib/python3.8/site-packages (from tensorflow->GANs-experimneting-tf==0.0.1) (22.12.6)\n",
      "Requirement already satisfied: wheel<1.0,>=0.23.0 in /Users/Guille/.pyenv/versions/3.8.12/envs/GANs/lib/python3.8/site-packages (from astunparse>=1.6.0->tensorflow->GANs-experimneting-tf==0.0.1) (0.38.4)\n",
      "Requirement already satisfied: pycparser in /Users/Guille/.pyenv/versions/3.8.12/envs/GANs/lib/python3.8/site-packages (from cffi>=1.1.0->cairocffi->GANs-experimneting-tf==0.0.1) (2.21)\n",
      "Requirement already satisfied: parso<0.9.0,>=0.8.0 in /Users/Guille/.pyenv/versions/3.8.12/envs/GANs/lib/python3.8/site-packages (from jedi>=0.16->ipython->GANs-experimneting-tf==0.0.1) (0.8.3)\n",
      "Requirement already satisfied: ptyprocess>=0.5 in /Users/Guille/.pyenv/versions/3.8.12/envs/GANs/lib/python3.8/site-packages (from pexpect>4.3->ipython->GANs-experimneting-tf==0.0.1) (0.7.0)\n",
      "Requirement already satisfied: wcwidth in /Users/Guille/.pyenv/versions/3.8.12/envs/GANs/lib/python3.8/site-packages (from prompt-toolkit<3.1.0,>=3.0.11->ipython->GANs-experimneting-tf==0.0.1) (0.2.5)\n",
      "Requirement already satisfied: requests<3,>=2.21.0 in /Users/Guille/.pyenv/versions/3.8.12/envs/GANs/lib/python3.8/site-packages (from tensorboard<2.12,>=2.11->tensorflow->GANs-experimneting-tf==0.0.1) (2.28.1)\n",
      "Requirement already satisfied: tensorboard-plugin-wit>=1.6.0 in /Users/Guille/.pyenv/versions/3.8.12/envs/GANs/lib/python3.8/site-packages (from tensorboard<2.12,>=2.11->tensorflow->GANs-experimneting-tf==0.0.1) (1.8.1)\n",
      "Requirement already satisfied: google-auth-oauthlib<0.5,>=0.4.1 in /Users/Guille/.pyenv/versions/3.8.12/envs/GANs/lib/python3.8/site-packages (from tensorboard<2.12,>=2.11->tensorflow->GANs-experimneting-tf==0.0.1) (0.4.6)\n",
      "Requirement already satisfied: markdown>=2.6.8 in /Users/Guille/.pyenv/versions/3.8.12/envs/GANs/lib/python3.8/site-packages (from tensorboard<2.12,>=2.11->tensorflow->GANs-experimneting-tf==0.0.1) (3.4.1)\n",
      "Requirement already satisfied: google-auth<3,>=1.6.3 in /Users/Guille/.pyenv/versions/3.8.12/envs/GANs/lib/python3.8/site-packages (from tensorboard<2.12,>=2.11->tensorflow->GANs-experimneting-tf==0.0.1) (2.15.0)\n",
      "Requirement already satisfied: tensorboard-data-server<0.7.0,>=0.6.0 in /Users/Guille/.pyenv/versions/3.8.12/envs/GANs/lib/python3.8/site-packages (from tensorboard<2.12,>=2.11->tensorflow->GANs-experimneting-tf==0.0.1) (0.6.1)\n",
      "Requirement already satisfied: werkzeug>=1.0.1 in /Users/Guille/.pyenv/versions/3.8.12/envs/GANs/lib/python3.8/site-packages (from tensorboard<2.12,>=2.11->tensorflow->GANs-experimneting-tf==0.0.1) (2.2.2)\n",
      "Requirement already satisfied: asttokens>=2.1.0 in /Users/Guille/.pyenv/versions/3.8.12/envs/GANs/lib/python3.8/site-packages (from stack-data->ipython->GANs-experimneting-tf==0.0.1) (2.2.1)\n",
      "Requirement already satisfied: executing>=1.2.0 in /Users/Guille/.pyenv/versions/3.8.12/envs/GANs/lib/python3.8/site-packages (from stack-data->ipython->GANs-experimneting-tf==0.0.1) (1.2.0)\n",
      "Requirement already satisfied: pure-eval in /Users/Guille/.pyenv/versions/3.8.12/envs/GANs/lib/python3.8/site-packages (from stack-data->ipython->GANs-experimneting-tf==0.0.1) (0.2.2)\n",
      "Requirement already satisfied: pyasn1-modules>=0.2.1 in /Users/Guille/.pyenv/versions/3.8.12/envs/GANs/lib/python3.8/site-packages (from google-auth<3,>=1.6.3->tensorboard<2.12,>=2.11->tensorflow->GANs-experimneting-tf==0.0.1) (0.2.8)\n",
      "Requirement already satisfied: cachetools<6.0,>=2.0.0 in /Users/Guille/.pyenv/versions/3.8.12/envs/GANs/lib/python3.8/site-packages (from google-auth<3,>=1.6.3->tensorboard<2.12,>=2.11->tensorflow->GANs-experimneting-tf==0.0.1) (5.2.0)\n",
      "Requirement already satisfied: rsa<5,>=3.1.4 in /Users/Guille/.pyenv/versions/3.8.12/envs/GANs/lib/python3.8/site-packages (from google-auth<3,>=1.6.3->tensorboard<2.12,>=2.11->tensorflow->GANs-experimneting-tf==0.0.1) (4.9)\n",
      "Requirement already satisfied: requests-oauthlib>=0.7.0 in /Users/Guille/.pyenv/versions/3.8.12/envs/GANs/lib/python3.8/site-packages (from google-auth-oauthlib<0.5,>=0.4.1->tensorboard<2.12,>=2.11->tensorflow->GANs-experimneting-tf==0.0.1) (1.3.1)\n",
      "Requirement already satisfied: importlib-metadata>=4.4 in /Users/Guille/.pyenv/versions/3.8.12/envs/GANs/lib/python3.8/site-packages (from markdown>=2.6.8->tensorboard<2.12,>=2.11->tensorflow->GANs-experimneting-tf==0.0.1) (5.1.0)\n",
      "Requirement already satisfied: idna<4,>=2.5 in /Users/Guille/.pyenv/versions/3.8.12/envs/GANs/lib/python3.8/site-packages (from requests<3,>=2.21.0->tensorboard<2.12,>=2.11->tensorflow->GANs-experimneting-tf==0.0.1) (3.4)\n",
      "Requirement already satisfied: certifi>=2017.4.17 in /Users/Guille/.pyenv/versions/3.8.12/envs/GANs/lib/python3.8/site-packages (from requests<3,>=2.21.0->tensorboard<2.12,>=2.11->tensorflow->GANs-experimneting-tf==0.0.1) (2022.12.7)\n",
      "Requirement already satisfied: charset-normalizer<3,>=2 in /Users/Guille/.pyenv/versions/3.8.12/envs/GANs/lib/python3.8/site-packages (from requests<3,>=2.21.0->tensorboard<2.12,>=2.11->tensorflow->GANs-experimneting-tf==0.0.1) (2.1.1)\n",
      "Requirement already satisfied: urllib3<1.27,>=1.21.1 in /Users/Guille/.pyenv/versions/3.8.12/envs/GANs/lib/python3.8/site-packages (from requests<3,>=2.21.0->tensorboard<2.12,>=2.11->tensorflow->GANs-experimneting-tf==0.0.1) (1.26.13)\n",
      "Requirement already satisfied: MarkupSafe>=2.1.1 in /Users/Guille/.pyenv/versions/3.8.12/envs/GANs/lib/python3.8/site-packages (from werkzeug>=1.0.1->tensorboard<2.12,>=2.11->tensorflow->GANs-experimneting-tf==0.0.1) (2.1.1)\n",
      "Requirement already satisfied: zipp>=0.5 in /Users/Guille/.pyenv/versions/3.8.12/envs/GANs/lib/python3.8/site-packages (from importlib-metadata>=4.4->markdown>=2.6.8->tensorboard<2.12,>=2.11->tensorflow->GANs-experimneting-tf==0.0.1) (3.11.0)\n",
      "Requirement already satisfied: pyasn1<0.5.0,>=0.4.6 in /Users/Guille/.pyenv/versions/3.8.12/envs/GANs/lib/python3.8/site-packages (from pyasn1-modules>=0.2.1->google-auth<3,>=1.6.3->tensorboard<2.12,>=2.11->tensorflow->GANs-experimneting-tf==0.0.1) (0.4.8)\n",
      "Requirement already satisfied: oauthlib>=3.0.0 in /Users/Guille/.pyenv/versions/3.8.12/envs/GANs/lib/python3.8/site-packages (from requests-oauthlib>=0.7.0->google-auth-oauthlib<0.5,>=0.4.1->tensorboard<2.12,>=2.11->tensorflow->GANs-experimneting-tf==0.0.1) (3.2.2)\n",
      "Building wheels for collected packages: GANs-experimneting-tf\n",
      "  Building wheel for GANs-experimneting-tf (setup.py) ... \u001b[?25ldone\n",
      "\u001b[?25h  Created wheel for GANs-experimneting-tf: filename=GANs_experimneting_tf-0.0.1-py3-none-any.whl size=7799 sha256=932d78b7a3ab602fd559df3a29260009b824f39efdb9c2531f8c37e1d04a2d1c\n",
      "  Stored in directory: /private/var/folders/0w/yx9msd751_v0j2zv7hy8zp1w0000gp/T/pip-ephem-wheel-cache-gnvwpomr/wheels/bf/a9/d6/1bea89027c0d47b5ec122bce59f312b9f3304766c2b18e0c43\n",
      "Successfully built GANs-experimneting-tf\n",
      "Installing collected packages: GANs-experimneting-tf\n",
      "  Attempting uninstall: GANs-experimneting-tf\n",
      "    Found existing installation: GANs-experimneting-tf 0.0.1\n",
      "    Uninstalling GANs-experimneting-tf-0.0.1:\n",
      "      Successfully uninstalled GANs-experimneting-tf-0.0.1\n",
      "Successfully installed GANs-experimneting-tf-0.0.1\n"
     ]
    }
   ],
   "source": [
    "!pip install .."
   ]
  },
  {
   "cell_type": "code",
   "execution_count": 2,
   "metadata": {},
   "outputs": [
    {
     "name": "stderr",
     "output_type": "stream",
     "text": [
      "2022-12-16 10:46:04.776431: I tensorflow/core/platform/cpu_feature_guard.cc:193] This TensorFlow binary is optimized with oneAPI Deep Neural Network Library (oneDNN) to use the following CPU instructions in performance-critical operations:  AVX2 FMA\n",
      "To enable them in other operations, rebuild TensorFlow with the appropriate compiler flags.\n"
     ]
    }
   ],
   "source": [
    "# External\n",
    "import pandas as pd\n",
    "import numpy as np\n",
    "import cv2\n",
    "import matplotlib.pyplot as plt\n",
    "\n",
    "# From our own package\n",
    "from gans.models.union import construct_models\n",
    "from gans.models.discriminator import build_discriminator\n",
    "from gans.models.generator import build_generator, build_generator_test\n",
    "from gans.utils.params import *\n",
    "from gans.tfm.tfms import make_discriminator_model, make_generator_model"
   ]
  },
  {
   "attachments": {},
   "cell_type": "markdown",
   "metadata": {},
   "source": [
    "### Check data"
   ]
  },
  {
   "cell_type": "code",
   "execution_count": 3,
   "metadata": {},
   "outputs": [
    {
     "name": "stdout",
     "output_type": "stream",
     "text": [
      "<class 'numpy.ndarray'>\n",
      "(144722, 784)\n"
     ]
    }
   ],
   "source": [
    "apple_arr = np.load('../data/apple.npy')\n",
    "print(type(apple_arr))\n",
    "print(apple_arr.shape)"
   ]
  },
  {
   "cell_type": "code",
   "execution_count": 4,
   "metadata": {},
   "outputs": [],
   "source": [
    "apple_arr = apple_arr.reshape(apple_arr.shape[0], 28, 28)"
   ]
  },
  {
   "cell_type": "code",
   "execution_count": 5,
   "metadata": {},
   "outputs": [
    {
     "data": {
      "image/png": "[encoded data removed]",
      "text/plain": [
       "<Figure size 1000x500 with 10 Axes>"
      ]
     },
     "metadata": {},
     "output_type": "display_data"
    }
   ],
   "source": [
    "fig, ax = plt.subplots(2, 5, figsize=(10, 5))\n",
    "ax = ax.reshape(10)\n",
    "for i in range(10):\n",
    "    ax[i].imshow(apple_arr[i], cmap='gray')"
   ]
  },
  {
   "attachments": {},
   "cell_type": "markdown",
   "metadata": {},
   "source": [
    "### Construct model and ensure dimensions are right"
   ]
  },
  {
   "cell_type": "code",
   "execution_count": 6,
   "metadata": {},
   "outputs": [],
   "source": [
    "from tensorflow.keras.layers import Conv2D, BatchNormalization, Input, GlobalAveragePooling2D, Dense, Conv2DTranspose, Reshape\n",
    "from tensorflow.keras.models import Model, Sequential\n",
    "from tensorflow.keras.layers import LeakyReLU, Dropout, Flatten\n",
    "from tensorflow.keras.optimizers import Adam"
   ]
  },
  {
   "cell_type": "code",
   "execution_count": 7,
   "metadata": {},
   "outputs": [],
   "source": [
    "# we will downscale the images\n",
    "SPATIAL_DIM = 32\n",
    "# size of noise vector\n",
    "LATENT_DIM_GAN = 100\n",
    "# filter size in conv layer\n",
    "FILTER_SIZE = 5\n",
    "# number of filters in conv layer\n",
    "NET_CAPACITY = 4\n",
    "# batch size\n",
    "BATCH_SIZE_GAN = 256\n",
    "# interval for displaying generated images\n",
    "PROGRESS_INTERVAL = 1000"
   ]
  },
  {
   "cell_type": "code",
   "execution_count": 8,
   "metadata": {},
   "outputs": [],
   "source": [
    "def build_generator_test( filter_size, latent_dim):\n",
    "\n",
    "    def add_generator_block(x, filters, filter_size, strides=2):\n",
    "        x = Conv2DTranspose(filters, filter_size, strides=strides, padding='same')(x)\n",
    "        x = BatchNormalization()(x)\n",
    "        x = LeakyReLU()(x)\n",
    "        return x\n",
    "\n",
    "    inp = Input(shape=(latent_dim,))\n",
    "\n",
    "    x = Dense(7 * 7 * 256, use_bias=False, input_shape=inp.shape)(inp)\n",
    "    x = BatchNormalization()(x)\n",
    "    x = Reshape(target_shape=(7, 7, 256))(x)\n",
    "\n",
    "    # design the generator to upsample the image 4x\n",
    "    x = add_generator_block(x, 128, filter_size, strides=1)\n",
    "    x = add_generator_block(x, 64, filter_size, strides=2)\n",
    "    x = add_generator_block(x, 1, filter_size, strides=2)\n",
    "    # x = add_generator_block(x, start_filters, filter_size)\n",
    "\n",
    "    # turn the output into a 2D tensor, an image with 3 channels\n",
    "    # x = Conv2D(1, kernel_size=5, padding='same', activation='tanh')(x)\n",
    "\n",
    "    return Model(inputs=inp, outputs=x)"
   ]
  },
  {
   "cell_type": "code",
   "execution_count": 50,
   "metadata": {},
   "outputs": [],
   "source": [
    "def build_discriminator_test(spatial_dim, filter_size):\n",
    "\n",
    "    # function for building a CNN block for downsampling the image\n",
    "    def add_discriminator_block(x, filters, filter_size, dropout=0.3):\n",
    "      # x = Conv2D(filters, filter_size, padding='same')(x)\n",
    "      # x = BatchNormalization()(x)\n",
    "      x = Conv2D(filters, filter_size, padding='same', strides=2)(x)\n",
    "      # x = BatchNormalization()(x)\n",
    "      x = LeakyReLU()(x)\n",
    "      x = Dropout(dropout)(x)\n",
    "\n",
    "      return x\n",
    "\n",
    "    # input is an image with shape spatial_dim x spatial_dim and 1 channel\n",
    "    inp = Input(shape=(28, 28, 1))\n",
    "\n",
    "    # design the discrimitor to downsample the image 4x\n",
    "    x = add_discriminator_block(inp, 64, filter_size)\n",
    "    x = add_discriminator_block(x, 128, filter_size, dropout=0.1)\n",
    "    # x = add_discriminator_block(x, start_filters * 4, filter_size)\n",
    "    # x = add_discriminator_block(x, start_filters * 8, filter_size)\n",
    "\n",
    "    # average and return a binary output\n",
    "    x = Flatten()(x)\n",
    "    x = Dense(1)(x)\n",
    "\n",
    "    return Model(inputs=inp, outputs=x)"
   ]
  },
  {
   "cell_type": "code",
   "execution_count": 51,
   "metadata": {},
   "outputs": [],
   "source": [
    "disc = build_discriminator_test(SPATIAL_DIM, FILTER_SIZE)"
   ]
  },
  {
   "cell_type": "code",
   "execution_count": 52,
   "metadata": {},
   "outputs": [],
   "source": [
    "def construct_models(verbose=False):\n",
    "    ### discriminator\n",
    "    discriminator = build_discriminator_test(SPATIAL_DIM, FILTER_SIZE)\n",
    "    # compile discriminator\n",
    "    discriminator.compile(loss='binary_crossentropy', optimizer=Adam(learning_rate=0.0002), metrics=['mae'])\n",
    "\n",
    "    ### generator\n",
    "    # do not compile generator\n",
    "    generator = build_generator_test(FILTER_SIZE, LATENT_DIM_GAN)\n",
    "\n",
    "    ### DCGAN\n",
    "    gan = Sequential()\n",
    "    gan.add(generator)\n",
    "    gan.add(discriminator)\n",
    "    discriminator.trainable = False\n",
    "    gan.compile(loss='binary_crossentropy', optimizer=Adam(learning_rate=0.0002), metrics=['mae'])\n",
    "\n",
    "    if verbose:\n",
    "        generator.summary()\n",
    "        discriminator.summary()\n",
    "        gan.summary()\n",
    "\n",
    "    return generator, discriminator, gan"
   ]
  },
  {
   "cell_type": "code",
   "execution_count": 53,
   "metadata": {},
   "outputs": [],
   "source": [
    "generator, discriminator, gan = construct_models(verbose=False)"
   ]
  },
  {
   "cell_type": "code",
   "execution_count": 54,
   "metadata": {},
   "outputs": [
    {
     "name": "stdout",
     "output_type": "stream",
     "text": [
      "(1, 28, 28, 1)\n"
     ]
    },
    {
     "data": {
      "text/plain": [
       "<matplotlib.image.AxesImage at 0x1366aaf40>"
      ]
     },
     "execution_count": 54,
     "metadata": {},
     "output_type": "execute_result"
    },
    {
     "data": {
      "image/png": "[encoded data removed]",
      "text/plain": [
       "<Figure size 640x480 with 1 Axes>"
      ]
     },
     "metadata": {},
     "output_type": "display_data"
    }
   ],
   "source": [
    "# Untrained generator's 'prediction' given random noise:\n",
    "\n",
    "noise = np.random.random([1, 100])\n",
    "generated_image = generator(noise, training=False)\n",
    "print(generated_image.shape)\n",
    "\n",
    "plt.imshow(generated_image[0, :, :, 0], cmap='gray')"
   ]
  },
  {
   "cell_type": "code",
   "execution_count": 55,
   "metadata": {},
   "outputs": [
    {
     "name": "stdout",
     "output_type": "stream",
     "text": [
      "tf.Tensor([[-0.00243258]], shape=(1, 1), dtype=float32)\n"
     ]
    }
   ],
   "source": [
    "# Untrained discriminator's decision on generated image:\n",
    "\n",
    "decision = discriminator(generated_image)\n",
    "print(decision)"
   ]
  },
  {
   "cell_type": "code",
   "execution_count": 56,
   "metadata": {},
   "outputs": [],
   "source": [
    "from tensorflow.keras.losses import BinaryCrossentropy"
   ]
  },
  {
   "cell_type": "code",
   "execution_count": 57,
   "metadata": {},
   "outputs": [
    {
     "data": {
      "text/plain": [
       "{'reduction': 'auto',\n",
       " 'name': 'binary_crossentropy',\n",
       " 'from_logits': True,\n",
       " 'label_smoothing': 0.0,\n",
       " 'axis': -1}"
      ]
     },
     "execution_count": 57,
     "metadata": {},
     "output_type": "execute_result"
    }
   ],
   "source": [
    "cross_entropy = BinaryCrossentropy(from_logits=True)\n",
    "cross_entropy.get_config()"
   ]
  },
  {
   "cell_type": "code",
   "execution_count": 58,
   "metadata": {},
   "outputs": [
    {
     "data": {
      "text/plain": [
       "(144722, 28, 28)"
      ]
     },
     "execution_count": 58,
     "metadata": {},
     "output_type": "execute_result"
    }
   ],
   "source": [
    "apple_norm = (apple_arr - 127.5) / 127.5\n",
    "apple_norm.shape"
   ]
  },
  {
   "cell_type": "code",
   "execution_count": 59,
   "metadata": {},
   "outputs": [
    {
     "data": {
      "text/plain": [
       "(144722, 28, 28, 1)"
      ]
     },
     "execution_count": 59,
     "metadata": {},
     "output_type": "execute_result"
    }
   ],
   "source": [
    "np.expand_dims(apple_norm, axis=3).shape"
   ]
  },
  {
   "cell_type": "code",
   "execution_count": 60,
   "metadata": {},
   "outputs": [
    {
     "data": {
      "text/plain": [
       "(144722, 28, 28, 1)"
      ]
     },
     "execution_count": 60,
     "metadata": {},
     "output_type": "execute_result"
    }
   ],
   "source": [
    "np.expand_dims(apple_arr, axis = 3).shape"
   ]
  },
  {
   "cell_type": "code",
   "execution_count": 61,
   "metadata": {},
   "outputs": [
    {
     "name": "stdout",
     "output_type": "stream",
     "text": [
      "(256, 28, 28)\n",
      "(256, 28, 28)\n"
     ]
    }
   ],
   "source": [
    "imgs_real_arr = apple_arr[np.random.randint(0, apple_arr.shape[0], BATCH_SIZE_GAN)]\n",
    "print(imgs_real_arr.shape)\n",
    "\n",
    "imgs_real_norm = apple_norm[np.random.randint(0, apple_norm.shape[0], BATCH_SIZE_GAN)]\n",
    "print(imgs_real_norm.shape)"
   ]
  },
  {
   "cell_type": "code",
   "execution_count": 62,
   "metadata": {},
   "outputs": [],
   "source": [
    "assert imgs_real_norm[0].shape == imgs_real_arr[0].shape"
   ]
  },
  {
   "cell_type": "code",
   "execution_count": 63,
   "metadata": {},
   "outputs": [],
   "source": [
    "loss_arr = discriminator.train_on_batch(np.expand_dims(imgs_real_arr, axis=3), np.ones([BATCH_SIZE_GAN]))\n",
    "loss_norm = discriminator.train_on_batch(np.expand_dims(imgs_real_norm, axis=3), np.ones([BATCH_SIZE_GAN]))"
   ]
  },
  {
   "cell_type": "code",
   "execution_count": 64,
   "metadata": {},
   "outputs": [
    {
     "data": {
      "text/plain": [
       "[13.843456268310547, 14.962428092956543]"
      ]
     },
     "execution_count": 64,
     "metadata": {},
     "output_type": "execute_result"
    }
   ],
   "source": [
    "loss_arr"
   ]
  },
  {
   "cell_type": "code",
   "execution_count": 65,
   "metadata": {},
   "outputs": [
    {
     "data": {
      "text/plain": [
       "[15.331015586853027, 1.183293342590332]"
      ]
     },
     "execution_count": 65,
     "metadata": {},
     "output_type": "execute_result"
    }
   ],
   "source": [
    "loss_norm"
   ]
  },
  {
   "cell_type": "code",
   "execution_count": 66,
   "metadata": {},
   "outputs": [],
   "source": [
    "import os\n",
    "import matplotlib.pyplot as plt\n",
    "import pandas as pd\n",
    "import numpy as np\n",
    "from IPython.display import clear_output\n",
    "\n",
    "# number of discriminator updates per alternating training iteration\n",
    "DISC_UPDATES = 1\n",
    "# number of generator updates per alternating training iteration\n",
    "GEN_UPDATES = 1\n",
    "\n",
    "TOTAL_SAMPLES = apple_arr.shape[0]\n",
    "\n",
    "LOCAL_DATA_PATH = '/Users/Guille/code/GuillermoIzquierdo/GANs'\n",
    "\n",
    "# function for training a GAN\n",
    "def run_training(generator, discriminator, gan, start_it=0, num_epochs=1000, arr=apple_norm):\n",
    "\n",
    "  # list for storing loss\n",
    "  avg_loss_discriminator = []\n",
    "  avg_loss_generator = []\n",
    "  total_it = start_it\n",
    "\n",
    "  # main training loop\n",
    "  for epoch in range(num_epochs):\n",
    "\n",
    "      # alternating training loop\n",
    "      loss_discriminator = []\n",
    "      loss_generator = []\n",
    "      for it in range(200):\n",
    "\n",
    "          #### Discriminator training loop ####\n",
    "          for i in range(DISC_UPDATES):\n",
    "              # select a random set of real images\n",
    "              imgs_real = arr[np.random.randint(0, arr.shape[0], BATCH_SIZE_GAN)]\n",
    "              imgs_real = np.expand_dims(imgs_real, axis=3)\n",
    "              # generate a set of random noise vectors\n",
    "              noise = np.random.randn(BATCH_SIZE_GAN, LATENT_DIM_GAN)\n",
    "              # generate a set of fake images using the generator\n",
    "              imgs_fake = generator.predict(noise)\n",
    "              # train the discriminator on real images with label 1\n",
    "              d_loss_real = discriminator.train_on_batch(imgs_real, np.ones([BATCH_SIZE_GAN]))[1]\n",
    "              # train the discriminator on fake images with label 0\n",
    "              d_loss_fake = discriminator.train_on_batch(imgs_fake, np.zeros([BATCH_SIZE_GAN]))[1]\n",
    "\n",
    "          # display some fake images for visual control of convergence\n",
    "          if total_it % PROGRESS_INTERVAL == 0:\n",
    "              plt.figure(figsize=(5,2))\n",
    "              num_vis = min(BATCH_SIZE_GAN, 5)\n",
    "              imgs_real = arr[np.random.randint(0, arr.shape[0], BATCH_SIZE_GAN)]\n",
    "              imgs_real = np.expand_dims(imgs_real, axis=3)\n",
    "              noise = np.random.randn(num_vis, LATENT_DIM_GAN)\n",
    "              imgs_fake = generator.predict(noise)\n",
    "              for obj_plot in [imgs_fake, imgs_real]:\n",
    "                  plt.figure(figsize=(num_vis * 3, 3))  \n",
    "                  for b in range(num_vis):\n",
    "                      disc_score = float(discriminator.predict(np.expand_dims(obj_plot[b], axis=0))[0])\n",
    "                      plt.subplot(1, num_vis, b + 1)\n",
    "                      plt.title(str(round(disc_score, 3)))\n",
    "                      plt.imshow(obj_plot[b].reshape(28, 28) * 0.5 + 0.5, cmap='gray')\n",
    "                  if obj_plot is imgs_fake:\n",
    "                      plt.savefig(os.path.join(LOCAL_DATA_PATH + '/visualization', str(total_it).zfill(10) + '.jpg'), format='jpg', bbox_inches='tight')\n",
    "                  plt.show()\n",
    "\n",
    "          #### Generator training loop ####\n",
    "          loss = 0\n",
    "          y = np.ones([BATCH_SIZE_GAN, 1])\n",
    "          for j in range(GEN_UPDATES):\n",
    "              # generate a set of random noise vectors\n",
    "              noise = np.random.randn(BATCH_SIZE_GAN, LATENT_DIM_GAN)\n",
    "              # train the generator on fake images with label 1\n",
    "              loss += gan.train_on_batch(noise, y)[1]\n",
    "\n",
    "          # store loss\n",
    "          loss_discriminator.append((d_loss_real + d_loss_fake) / 2.)\n",
    "          loss_generator.append(loss / GEN_UPDATES)\n",
    "          total_it += 1\n",
    "\n",
    "      # visualize loss\n",
    "      clear_output(True)\n",
    "      print('Epoch', epoch)\n",
    "      avg_loss_discriminator.append(np.mean(loss_discriminator))\n",
    "      avg_loss_generator.append(np.mean(loss_generator))\n",
    "      plt.plot(range(len(avg_loss_discriminator)), avg_loss_discriminator)\n",
    "      plt.plot(range(len(avg_loss_generator)), avg_loss_generator)\n",
    "      plt.legend(['discriminator loss', 'generator loss'])\n",
    "      plt.show()\n",
    "\n",
    "  return generator, discriminator, gan\n"
   ]
  },
  {
   "cell_type": "code",
   "execution_count": 67,
   "metadata": {},
   "outputs": [
    {
     "name": "stdout",
     "output_type": "stream",
     "text": [
      "8/8 [==============================] - 1s 112ms/step\n",
      "1/1 [==============================] - 0s 203ms/step\n",
      "1/1 [==============================] - 0s 87ms/step\n",
      "1/1 [==============================] - 0s 28ms/step\n",
      "1/1 [==============================] - 0s 30ms/step\n",
      "1/1 [==============================] - 0s 31ms/step\n",
      "1/1 [==============================] - 0s 27ms/step\n"
     ]
    },
    {
     "data": {
      "text/plain": [
       "<Figure size 500x200 with 0 Axes>"
      ]
     },
     "metadata": {},
     "output_type": "display_data"
    },
    {
     "data": {
      "image/png": "[encoded data removed]",
      "text/plain": [
       "<Figure size 1500x300 with 5 Axes>"
      ]
     },
     "metadata": {},
     "output_type": "display_data"
    },
    {
     "name": "stdout",
     "output_type": "stream",
     "text": [
      "1/1 [==============================] - 0s 50ms/step\n",
      "1/1 [==============================] - 0s 25ms/step\n",
      "1/1 [==============================] - 0s 26ms/step\n",
      "1/1 [==============================] - 0s 28ms/step\n",
      "1/1 [==============================] - 0s 28ms/step\n"
     ]
    },
    {
     "data": {
      "image/png": "[encoded data removed]",
      "text/plain": [
       "<Figure size 1500x300 with 5 Axes>"
      ]
     },
     "metadata": {},
     "output_type": "display_data"
    },
    {
     "name": "stdout",
     "output_type": "stream",
     "text": [
      "WARNING:tensorflow:5 out of the last 19 calls to <function Model.make_train_function.<locals>.train_function at 0x136cc2820> triggered tf.function retracing. Tracing is expensive and the excessive number of tracings could be due to (1) creating @tf.function repeatedly in a loop, (2) passing tensors with different shapes, (3) passing Python objects instead of tensors. For (1), please define your @tf.function outside of the loop. For (2), @tf.function has reduce_retracing=True option that can avoid unnecessary retracing. For (3), please refer to https://www.tensorflow.org/guide/function#controlling_retracing and https://www.tensorflow.org/api_docs/python/tf/function for  more details.\n",
      "8/8 [==============================] - 1s 125ms/step\n",
      "8/8 [==============================] - 1s 126ms/step\n",
      "8/8 [==============================] - 1s 120ms/step\n",
      "8/8 [==============================] - 1s 166ms/step\n",
      "8/8 [==============================] - 1s 102ms/step\n",
      "8/8 [==============================] - 1s 111ms/step\n",
      "8/8 [==============================] - 1s 96ms/step\n",
      "8/8 [==============================] - 1s 105ms/step\n",
      "8/8 [==============================] - 1s 91ms/step\n",
      "8/8 [==============================] - 1s 137ms/step\n",
      "8/8 [==============================] - 1s 147ms/step\n",
      "8/8 [==============================] - 1s 124ms/step\n",
      "8/8 [==============================] - 1s 136ms/step\n",
      "8/8 [==============================] - 1s 96ms/step\n",
      "8/8 [==============================] - 1s 135ms/step\n"
     ]
    },
    {
     "ename": "KeyboardInterrupt",
     "evalue": "",
     "output_type": "error",
     "traceback": [
      "\u001b[0;31m---------------------------------------------------------------------------\u001b[0m",
      "\u001b[0;31mKeyboardInterrupt\u001b[0m                         Traceback (most recent call last)",
      "Cell \u001b[0;32mIn[67], line 1\u001b[0m\n\u001b[0;32m----> 1\u001b[0m gen_tr, disc_tr, gan_tr \u001b[39m=\u001b[39m run_training(generator, discriminator, gan, start_it\u001b[39m=\u001b[39;49m\u001b[39m0\u001b[39;49m, num_epochs\u001b[39m=\u001b[39;49m\u001b[39m50\u001b[39;49m, arr\u001b[39m=\u001b[39;49mapple_norm)\n",
      "Cell \u001b[0;32mIn[66], line 44\u001b[0m, in \u001b[0;36mrun_training\u001b[0;34m(generator, discriminator, gan, start_it, num_epochs, arr)\u001b[0m\n\u001b[1;32m     42\u001b[0m     d_loss_real \u001b[39m=\u001b[39m discriminator\u001b[39m.\u001b[39mtrain_on_batch(imgs_real, np\u001b[39m.\u001b[39mones([BATCH_SIZE_GAN]))[\u001b[39m1\u001b[39m]\n\u001b[1;32m     43\u001b[0m     \u001b[39m# train the discriminator on fake images with label 0\u001b[39;00m\n\u001b[0;32m---> 44\u001b[0m     d_loss_fake \u001b[39m=\u001b[39m discriminator\u001b[39m.\u001b[39;49mtrain_on_batch(imgs_fake, np\u001b[39m.\u001b[39;49mzeros([BATCH_SIZE_GAN]))[\u001b[39m1\u001b[39m]\n\u001b[1;32m     46\u001b[0m \u001b[39m# display some fake images for visual control of convergence\u001b[39;00m\n\u001b[1;32m     47\u001b[0m \u001b[39mif\u001b[39;00m total_it \u001b[39m%\u001b[39m PROGRESS_INTERVAL \u001b[39m==\u001b[39m \u001b[39m0\u001b[39m:\n",
      "File \u001b[0;32m~/.pyenv/versions/3.8.12/envs/GANs/lib/python3.8/site-packages/keras/engine/training.py:2478\u001b[0m, in \u001b[0;36mModel.train_on_batch\u001b[0;34m(self, x, y, sample_weight, class_weight, reset_metrics, return_dict)\u001b[0m\n\u001b[1;32m   2474\u001b[0m     iterator \u001b[39m=\u001b[39m data_adapter\u001b[39m.\u001b[39msingle_batch_iterator(\n\u001b[1;32m   2475\u001b[0m         \u001b[39mself\u001b[39m\u001b[39m.\u001b[39mdistribute_strategy, x, y, sample_weight, class_weight\n\u001b[1;32m   2476\u001b[0m     )\n\u001b[1;32m   2477\u001b[0m     \u001b[39mself\u001b[39m\u001b[39m.\u001b[39mtrain_function \u001b[39m=\u001b[39m \u001b[39mself\u001b[39m\u001b[39m.\u001b[39mmake_train_function()\n\u001b[0;32m-> 2478\u001b[0m     logs \u001b[39m=\u001b[39m \u001b[39mself\u001b[39;49m\u001b[39m.\u001b[39;49mtrain_function(iterator)\n\u001b[1;32m   2480\u001b[0m logs \u001b[39m=\u001b[39m tf_utils\u001b[39m.\u001b[39msync_to_numpy_or_python_type(logs)\n\u001b[1;32m   2481\u001b[0m \u001b[39mif\u001b[39;00m return_dict:\n",
      "File \u001b[0;32m~/.pyenv/versions/3.8.12/envs/GANs/lib/python3.8/site-packages/tensorflow/python/util/traceback_utils.py:150\u001b[0m, in \u001b[0;36mfilter_traceback.<locals>.error_handler\u001b[0;34m(*args, **kwargs)\u001b[0m\n\u001b[1;32m    148\u001b[0m filtered_tb \u001b[39m=\u001b[39m \u001b[39mNone\u001b[39;00m\n\u001b[1;32m    149\u001b[0m \u001b[39mtry\u001b[39;00m:\n\u001b[0;32m--> 150\u001b[0m   \u001b[39mreturn\u001b[39;00m fn(\u001b[39m*\u001b[39;49margs, \u001b[39m*\u001b[39;49m\u001b[39m*\u001b[39;49mkwargs)\n\u001b[1;32m    151\u001b[0m \u001b[39mexcept\u001b[39;00m \u001b[39mException\u001b[39;00m \u001b[39mas\u001b[39;00m e:\n\u001b[1;32m    152\u001b[0m   filtered_tb \u001b[39m=\u001b[39m _process_traceback_frames(e\u001b[39m.\u001b[39m__traceback__)\n",
      "File \u001b[0;32m~/.pyenv/versions/3.8.12/envs/GANs/lib/python3.8/site-packages/tensorflow/python/eager/polymorphic_function/polymorphic_function.py:880\u001b[0m, in \u001b[0;36mFunction.__call__\u001b[0;34m(self, *args, **kwds)\u001b[0m\n\u001b[1;32m    877\u001b[0m compiler \u001b[39m=\u001b[39m \u001b[39m\"\u001b[39m\u001b[39mxla\u001b[39m\u001b[39m\"\u001b[39m \u001b[39mif\u001b[39;00m \u001b[39mself\u001b[39m\u001b[39m.\u001b[39m_jit_compile \u001b[39melse\u001b[39;00m \u001b[39m\"\u001b[39m\u001b[39mnonXla\u001b[39m\u001b[39m\"\u001b[39m\n\u001b[1;32m    879\u001b[0m \u001b[39mwith\u001b[39;00m OptionalXlaContext(\u001b[39mself\u001b[39m\u001b[39m.\u001b[39m_jit_compile):\n\u001b[0;32m--> 880\u001b[0m   result \u001b[39m=\u001b[39m \u001b[39mself\u001b[39;49m\u001b[39m.\u001b[39;49m_call(\u001b[39m*\u001b[39;49margs, \u001b[39m*\u001b[39;49m\u001b[39m*\u001b[39;49mkwds)\n\u001b[1;32m    882\u001b[0m new_tracing_count \u001b[39m=\u001b[39m \u001b[39mself\u001b[39m\u001b[39m.\u001b[39mexperimental_get_tracing_count()\n\u001b[1;32m    883\u001b[0m without_tracing \u001b[39m=\u001b[39m (tracing_count \u001b[39m==\u001b[39m new_tracing_count)\n",
      "File \u001b[0;32m~/.pyenv/versions/3.8.12/envs/GANs/lib/python3.8/site-packages/tensorflow/python/eager/polymorphic_function/polymorphic_function.py:912\u001b[0m, in \u001b[0;36mFunction._call\u001b[0;34m(self, *args, **kwds)\u001b[0m\n\u001b[1;32m    909\u001b[0m   \u001b[39mself\u001b[39m\u001b[39m.\u001b[39m_lock\u001b[39m.\u001b[39mrelease()\n\u001b[1;32m    910\u001b[0m   \u001b[39m# In this case we have created variables on the first call, so we run the\u001b[39;00m\n\u001b[1;32m    911\u001b[0m   \u001b[39m# defunned version which is guaranteed to never create variables.\u001b[39;00m\n\u001b[0;32m--> 912\u001b[0m   \u001b[39mreturn\u001b[39;00m \u001b[39mself\u001b[39;49m\u001b[39m.\u001b[39;49m_no_variable_creation_fn(\u001b[39m*\u001b[39;49margs, \u001b[39m*\u001b[39;49m\u001b[39m*\u001b[39;49mkwds)  \u001b[39m# pylint: disable=not-callable\u001b[39;00m\n\u001b[1;32m    913\u001b[0m \u001b[39melif\u001b[39;00m \u001b[39mself\u001b[39m\u001b[39m.\u001b[39m_variable_creation_fn \u001b[39mis\u001b[39;00m \u001b[39mnot\u001b[39;00m \u001b[39mNone\u001b[39;00m:\n\u001b[1;32m    914\u001b[0m   \u001b[39m# Release the lock early so that multiple threads can perform the call\u001b[39;00m\n\u001b[1;32m    915\u001b[0m   \u001b[39m# in parallel.\u001b[39;00m\n\u001b[1;32m    916\u001b[0m   \u001b[39mself\u001b[39m\u001b[39m.\u001b[39m_lock\u001b[39m.\u001b[39mrelease()\n",
      "File \u001b[0;32m~/.pyenv/versions/3.8.12/envs/GANs/lib/python3.8/site-packages/tensorflow/python/eager/polymorphic_function/tracing_compiler.py:134\u001b[0m, in \u001b[0;36mTracingCompiler.__call__\u001b[0;34m(self, *args, **kwargs)\u001b[0m\n\u001b[1;32m    131\u001b[0m \u001b[39mwith\u001b[39;00m \u001b[39mself\u001b[39m\u001b[39m.\u001b[39m_lock:\n\u001b[1;32m    132\u001b[0m   (concrete_function,\n\u001b[1;32m    133\u001b[0m    filtered_flat_args) \u001b[39m=\u001b[39m \u001b[39mself\u001b[39m\u001b[39m.\u001b[39m_maybe_define_function(args, kwargs)\n\u001b[0;32m--> 134\u001b[0m \u001b[39mreturn\u001b[39;00m concrete_function\u001b[39m.\u001b[39;49m_call_flat(\n\u001b[1;32m    135\u001b[0m     filtered_flat_args, captured_inputs\u001b[39m=\u001b[39;49mconcrete_function\u001b[39m.\u001b[39;49mcaptured_inputs)\n",
      "File \u001b[0;32m~/.pyenv/versions/3.8.12/envs/GANs/lib/python3.8/site-packages/tensorflow/python/eager/polymorphic_function/monomorphic_function.py:1745\u001b[0m, in \u001b[0;36mConcreteFunction._call_flat\u001b[0;34m(self, args, captured_inputs, cancellation_manager)\u001b[0m\n\u001b[1;32m   1741\u001b[0m possible_gradient_type \u001b[39m=\u001b[39m gradients_util\u001b[39m.\u001b[39mPossibleTapeGradientTypes(args)\n\u001b[1;32m   1742\u001b[0m \u001b[39mif\u001b[39;00m (possible_gradient_type \u001b[39m==\u001b[39m gradients_util\u001b[39m.\u001b[39mPOSSIBLE_GRADIENT_TYPES_NONE\n\u001b[1;32m   1743\u001b[0m     \u001b[39mand\u001b[39;00m executing_eagerly):\n\u001b[1;32m   1744\u001b[0m   \u001b[39m# No tape is watching; skip to running the function.\u001b[39;00m\n\u001b[0;32m-> 1745\u001b[0m   \u001b[39mreturn\u001b[39;00m \u001b[39mself\u001b[39m\u001b[39m.\u001b[39m_build_call_outputs(\u001b[39mself\u001b[39;49m\u001b[39m.\u001b[39;49m_inference_function\u001b[39m.\u001b[39;49mcall(\n\u001b[1;32m   1746\u001b[0m       ctx, args, cancellation_manager\u001b[39m=\u001b[39;49mcancellation_manager))\n\u001b[1;32m   1747\u001b[0m forward_backward \u001b[39m=\u001b[39m \u001b[39mself\u001b[39m\u001b[39m.\u001b[39m_select_forward_and_backward_functions(\n\u001b[1;32m   1748\u001b[0m     args,\n\u001b[1;32m   1749\u001b[0m     possible_gradient_type,\n\u001b[1;32m   1750\u001b[0m     executing_eagerly)\n\u001b[1;32m   1751\u001b[0m forward_function, args_with_tangents \u001b[39m=\u001b[39m forward_backward\u001b[39m.\u001b[39mforward()\n",
      "File \u001b[0;32m~/.pyenv/versions/3.8.12/envs/GANs/lib/python3.8/site-packages/tensorflow/python/eager/polymorphic_function/monomorphic_function.py:378\u001b[0m, in \u001b[0;36m_EagerDefinedFunction.call\u001b[0;34m(self, ctx, args, cancellation_manager)\u001b[0m\n\u001b[1;32m    376\u001b[0m \u001b[39mwith\u001b[39;00m _InterpolateFunctionError(\u001b[39mself\u001b[39m):\n\u001b[1;32m    377\u001b[0m   \u001b[39mif\u001b[39;00m cancellation_manager \u001b[39mis\u001b[39;00m \u001b[39mNone\u001b[39;00m:\n\u001b[0;32m--> 378\u001b[0m     outputs \u001b[39m=\u001b[39m execute\u001b[39m.\u001b[39;49mexecute(\n\u001b[1;32m    379\u001b[0m         \u001b[39mstr\u001b[39;49m(\u001b[39mself\u001b[39;49m\u001b[39m.\u001b[39;49msignature\u001b[39m.\u001b[39;49mname),\n\u001b[1;32m    380\u001b[0m         num_outputs\u001b[39m=\u001b[39;49m\u001b[39mself\u001b[39;49m\u001b[39m.\u001b[39;49m_num_outputs,\n\u001b[1;32m    381\u001b[0m         inputs\u001b[39m=\u001b[39;49margs,\n\u001b[1;32m    382\u001b[0m         attrs\u001b[39m=\u001b[39;49mattrs,\n\u001b[1;32m    383\u001b[0m         ctx\u001b[39m=\u001b[39;49mctx)\n\u001b[1;32m    384\u001b[0m   \u001b[39melse\u001b[39;00m:\n\u001b[1;32m    385\u001b[0m     outputs \u001b[39m=\u001b[39m execute\u001b[39m.\u001b[39mexecute_with_cancellation(\n\u001b[1;32m    386\u001b[0m         \u001b[39mstr\u001b[39m(\u001b[39mself\u001b[39m\u001b[39m.\u001b[39msignature\u001b[39m.\u001b[39mname),\n\u001b[1;32m    387\u001b[0m         num_outputs\u001b[39m=\u001b[39m\u001b[39mself\u001b[39m\u001b[39m.\u001b[39m_num_outputs,\n\u001b[0;32m   (...)\u001b[0m\n\u001b[1;32m    390\u001b[0m         ctx\u001b[39m=\u001b[39mctx,\n\u001b[1;32m    391\u001b[0m         cancellation_manager\u001b[39m=\u001b[39mcancellation_manager)\n",
      "File \u001b[0;32m~/.pyenv/versions/3.8.12/envs/GANs/lib/python3.8/site-packages/tensorflow/python/eager/execute.py:52\u001b[0m, in \u001b[0;36mquick_execute\u001b[0;34m(op_name, num_outputs, inputs, attrs, ctx, name)\u001b[0m\n\u001b[1;32m     50\u001b[0m \u001b[39mtry\u001b[39;00m:\n\u001b[1;32m     51\u001b[0m   ctx\u001b[39m.\u001b[39mensure_initialized()\n\u001b[0;32m---> 52\u001b[0m   tensors \u001b[39m=\u001b[39m pywrap_tfe\u001b[39m.\u001b[39;49mTFE_Py_Execute(ctx\u001b[39m.\u001b[39;49m_handle, device_name, op_name,\n\u001b[1;32m     53\u001b[0m                                       inputs, attrs, num_outputs)\n\u001b[1;32m     54\u001b[0m \u001b[39mexcept\u001b[39;00m core\u001b[39m.\u001b[39m_NotOkStatusException \u001b[39mas\u001b[39;00m e:\n\u001b[1;32m     55\u001b[0m   \u001b[39mif\u001b[39;00m name \u001b[39mis\u001b[39;00m \u001b[39mnot\u001b[39;00m \u001b[39mNone\u001b[39;00m:\n",
      "\u001b[0;31mKeyboardInterrupt\u001b[0m: "
     ]
    }
   ],
   "source": [
    "gen_tr, disc_tr, gan_tr = run_training(generator, discriminator, gan, start_it=0, num_epochs=50, arr=apple_norm)"
   ]
  },
  {
   "cell_type": "code",
   "execution_count": null,
   "metadata": {},
   "outputs": [],
   "source": []
  }
 ],
 "metadata": {
  "kernelspec": {
   "display_name": "GANs",
   "language": "python",
   "name": "python3"
  },
  "language_info": {
   "codemirror_mode": {
    "name": "ipython",
    "version": 3
   },
   "file_extension": ".py",
   "mimetype": "text/x-python",
   "name": "python",
   "nbconvert_exporter": "python",
   "pygments_lexer": "ipython3",
   "version": "3.8.12"
  },
  "orig_nbformat": 4,
  "vscode": {
   "interpreter": {
    "hash": "2d0afc7fdf48e09e89cbe6537c8bfb169d57c578a229368d2dc37fc6e92e3408"
   }
  }
 },
 "nbformat": 4,
 "nbformat_minor": 2
}
